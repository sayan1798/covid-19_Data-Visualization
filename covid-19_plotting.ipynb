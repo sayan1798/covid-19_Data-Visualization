{
 "cells": [
  {
   "cell_type": "code",
   "execution_count": 27,
   "metadata": {},
   "outputs": [],
   "source": [
    "import numpy as np\n",
    "import pandas as pd\n",
    "import matplotlib.pyplot as plt\n",
    "import matplotlib.ticker as ticker\n",
    "import seaborn as sns\n",
    "import plotly.express as px\n",
    "from plotly.offline import plot"
   ]
  },
  {
   "cell_type": "code",
   "execution_count": 28,
   "metadata": {},
   "outputs": [],
   "source": [
    "covid_confirmed   = pd.read_csv('https://raw.githubusercontent.com/CSSEGISandData/COVID-19/master/csse_covid_19_data/csse_covid_19_time_series/time_series_covid19_confirmed_global.csv')\n",
    "covid_deaths = pd.read_csv('https://raw.githubusercontent.com/CSSEGISandData/COVID-19/master/csse_covid_19_data/csse_covid_19_time_series/time_series_covid19_deaths_global.csv')\n",
    "covid_recovered = pd.read_csv('https://raw.githubusercontent.com/CSSEGISandData/COVID-19/master/csse_covid_19_data/csse_covid_19_time_series/time_series_covid19_recovered_global.csv')\n"
   ]
  },
  {
   "cell_type": "code",
   "execution_count": 29,
   "metadata": {},
   "outputs": [
    {
     "name": "stdout",
     "output_type": "stream",
     "text": [
      "(254, 73)\n",
      "(254, 73)\n",
      "(240, 73)\n"
     ]
    }
   ],
   "source": [
    "print(covid_confirmed.shape)\n",
    "print(covid_deaths.shape)\n",
    "print(covid_recovered.shape)\n"
   ]
  },
  {
   "cell_type": "code",
   "execution_count": 30,
   "metadata": {},
   "outputs": [
    {
     "name": "stdout",
     "output_type": "stream",
     "text": [
      "  Province/State Country/Region      Lat     Long     date  confirmed\n",
      "0            NaN    Afghanistan  33.0000  65.0000  1/22/20          0\n",
      "1            NaN        Albania  41.1533  20.1683  1/22/20          0\n",
      "2            NaN        Algeria  28.0339   1.6596  1/22/20          0\n",
      "3            NaN        Andorra  42.5063   1.5218  1/22/20          0\n",
      "4            NaN         Angola -11.2027  17.8739  1/22/20          0\n",
      "  Province/State Country/Region      Lat     Long     date  confirmed  deaths  \\\n",
      "0            NaN    Afghanistan  33.0000  65.0000  1/22/20          0       0   \n",
      "1            NaN        Albania  41.1533  20.1683  1/22/20          0       0   \n",
      "2            NaN        Algeria  28.0339   1.6596  1/22/20          0       0   \n",
      "3            NaN        Andorra  42.5063   1.5218  1/22/20          0       0   \n",
      "4            NaN         Angola -11.2027  17.8739  1/22/20          0       0   \n",
      "\n",
      "   recovered  \n",
      "0        0.0  \n",
      "1        0.0  \n",
      "2        0.0  \n",
      "3        0.0  \n",
      "4        0.0  \n",
      "  Province/State Country/Region      Lat     Long     date  confirmed  deaths  \\\n",
      "0            NaN    Afghanistan  33.0000  65.0000  1/22/20          0       0   \n",
      "1            NaN        Albania  41.1533  20.1683  1/22/20          0       0   \n",
      "2            NaN        Algeria  28.0339   1.6596  1/22/20          0       0   \n",
      "3            NaN        Andorra  42.5063   1.5218  1/22/20          0       0   \n",
      "4            NaN         Angola -11.2027  17.8739  1/22/20          0       0   \n",
      "\n",
      "   recovered  active  \n",
      "0        0.0     0.0  \n",
      "1        0.0     0.0  \n",
      "2        0.0     0.0  \n",
      "3        0.0     0.0  \n",
      "4        0.0     0.0  \n",
      "0\n",
      "         Country/Region  confirmed  deaths  recovered  active\n",
      "0           Afghanistan        170       4      749.0    90.0\n",
      "1               Albania        223      11    33934.0   167.0\n",
      "2               Algeria        584      35     3243.0   383.0\n",
      "3               Andorra        370       8    58382.0   264.0\n",
      "4                Angola          7       2     1014.0     3.0\n",
      "..                  ...        ...     ...        ...     ...\n",
      "173           Venezuela        135       3    38557.0   106.0\n",
      "174             Vietnam        203       0     4948.0   151.0\n",
      "175  West Bank and Gaza        116       1    36208.0    82.0\n",
      "176              Zambia         35       0    59433.0    16.0\n",
      "177            Zimbabwe          7       1     1014.0     3.0\n",
      "\n",
      "[178 rows x 5 columns]\n"
     ]
    },
    {
     "data": {
      "text/plain": [
       "'temp-plot.html'"
      ]
     },
     "execution_count": 30,
     "metadata": {},
     "output_type": "execute_result"
    }
   ],
   "source": [
    "covid_confirmed_long = pd.melt(covid_confirmed,\n",
    "                               id_vars=covid_confirmed.iloc[:, :4],\n",
    "                               var_name='date',\n",
    "                               value_name='confirmed')\n",
    "\n",
    "covid_deaths_long = pd.melt(covid_deaths,\n",
    "                               id_vars=covid_deaths.iloc[:, :4],\n",
    "                               var_name='date',\n",
    "                               value_name='deaths')\n",
    "\n",
    "covid_recovered_long = pd.melt(covid_recovered,\n",
    "                               id_vars=covid_recovered.iloc[:, :4],\n",
    "                               var_name='date',\n",
    "                               value_name='recovered')\n",
    "\n",
    "print(covid_confirmed_long.head())\n",
    "\n",
    "#Merge all three dataframes into one for easy plotting\n",
    "covid_df = covid_confirmed_long\n",
    "covid_df['deaths'] = covid_deaths_long['deaths']\n",
    "covid_df['recovered'] = covid_recovered_long['recovered']\n",
    "\n",
    "print(covid_df.head())\n",
    "\n",
    "#Add a new column for active cases\n",
    "covid_df['active'] = covid_df['confirmed'] - covid_df['deaths'] - covid_df['recovered']\n",
    "print(covid_df.head())\n",
    "\n",
    "#Since we are reading raw csv files again, let us clean up the data\n",
    "#Replace mainland china by china and fill null values with 0\n",
    "\n",
    "covid_df['Country/Region'].replace('Mainland China', 'China', inplace=True)\n",
    "covid_df[['Province/State']] = covid_df[['Province/State']].fillna('')\n",
    "covid_df.fillna(0, inplace=True)\n",
    "print(covid_df.isna().sum().sum())\n",
    "\n",
    "#Save the data as csv to local drive\n",
    "covid_df.to_csv('covid_df.csv', index=None) #optional but would be nice to have a local copy\n",
    "\n",
    "#if saved to local drive reload it.\n",
    "#pd.read_csv('covid_df.csv')\n",
    "\n",
    "#Aggregate data by Country/Region and then Province/State\n",
    "#Find out maximum values as a function of time\n",
    "covid_countries_df = covid_df.groupby(['Country/Region', 'Province/State']).max().reset_index()\n",
    "\n",
    "#Group the data by Country/Region, get sum of cases every state in the country.\n",
    "covid_countries_df = covid_countries_df.groupby('Country/Region').sum().reset_index()\n",
    "\n",
    "#Remove Lat and Long columns as we would not be using them\n",
    "covid_countries_df.drop(['Lat', 'Long'], axis=1, inplace=True)\n",
    "\n",
    "print(covid_countries_df)\n",
    "\n",
    "# DATA is READY to be plotted.\n",
    "\n",
    "#Top 10 countries with confirmed cases\n",
    "top_10_confirmed = covid_countries_df.sort_values(by='confirmed', ascending=False).head(10)\n",
    "\n",
    "fig = px.bar(top_10_confirmed.sort_values(by='confirmed', ascending=False),\n",
    "              x=\"Country/Region\", y=\"confirmed\",\n",
    "             title='Confirmed Cases of COVID-19 of top 10 Countries', \n",
    "             text=\"confirmed\", template='plotly_dark')\n",
    "\n",
    "fig.update_traces(textposition='outside', texttemplate='%{text:.2s}')\n",
    "fig.update_layout(uniformtext_minsize=8, uniformtext_mode='hide')\n",
    "\n",
    "plot(fig)"
   ]
  },
  {
   "cell_type": "code",
   "execution_count": 32,
   "metadata": {},
   "outputs": [
    {
     "data": {
      "text/plain": [
       "'temp-plot.html'"
      ]
     },
     "execution_count": 32,
     "metadata": {},
     "output_type": "execute_result"
    }
   ],
   "source": [
    "#Top 10 countries with high recovery numbers\n",
    "top_10_recovered = covid_countries_df.sort_values(by='recovered', ascending=False).head(10)\n",
    "fig = px.bar(top_10_confirmed.sort_values(by='recovered', ascending=True),\n",
    "             x=\"recovered\", y=\"Country/Region\",\n",
    "             title='Recovered Cases', text='recovered',\n",
    "             template='plotly_dark', orientation='h')\n",
    "\n",
    "fig.update_traces(marker_color='#2ecc71', textposition='outside')\n",
    "#fig.update_layout(uniformtext_minsize=8, uniformtext_mode='hide')\n",
    "\n",
    "plot(fig)"
   ]
  },
  {
   "cell_type": "code",
   "execution_count": 31,
   "metadata": {},
   "outputs": [
    {
     "data": {
      "text/plain": [
       "'temp-plot.html'"
      ]
     },
     "execution_count": 31,
     "metadata": {},
     "output_type": "execute_result"
    }
   ],
   "source": [
    "#Top 10 countries with highest number of deaths\n",
    "top_10_deaths = covid_countries_df.sort_values(by='deaths', ascending=False).head(10)\n",
    "fig = px.bar(top_10_confirmed.sort_values(by='deaths', ascending=False),\n",
    "             y=\"deaths\", x=\"Country/Region\",\n",
    "             title='Death Cases of COVID-19 of top 10 Countries', \n",
    "             template='plotly_dark', text=\"deaths\")\n",
    "\n",
    "fig.update_traces(textposition='outside',texttemplate='%{text:.2s}',marker_color='#e74c3c')\n",
    "fig.update_layout(uniformtext_minsize=8, uniformtext_mode='hide')\n",
    "\n",
    "\n",
    "plot(fig)"
   ]
  },
  {
   "cell_type": "code",
   "execution_count": 7,
   "metadata": {},
   "outputs": [
    {
     "data": {
      "text/plain": [
       "'temp-plot.html'"
      ]
     },
     "execution_count": 7,
     "metadata": {},
     "output_type": "execute_result"
    }
   ],
   "source": [
    "#Top 10 countries with highest mortality rate\n",
    "covid_countries_df['mortality_rate'] = round(covid_countries_df['deaths'] / covid_countries_df['confirmed'] * 100, 2)\n",
    "temp = covid_countries_df[covid_countries_df['confirmed'] > 100]\n",
    "top_10_mortality_rate = temp.sort_values(by='mortality_rate', ascending=False).head(10)\n",
    "\n",
    "fig = px.bar(top_10_mortality_rate.sort_values(by='mortality_rate', ascending=True),\n",
    "             x=\"mortality_rate\", y=\"Country/Region\",\n",
    "             title='Mortality rate', text='mortality_rate',\n",
    "             template='plotly_dark', orientation='h',\n",
    "             width=700, height=600)\n",
    "\n",
    "fig.update_traces(marker_color='#c0392b', textposition='inside')\n",
    "\n",
    "plot(fig)"
   ]
  },
  {
   "cell_type": "code",
   "execution_count": 35,
   "metadata": {},
   "outputs": [
    {
     "data": {
      "text/plain": [
       "'temp-plot.html'"
      ]
     },
     "execution_count": 35,
     "metadata": {},
     "output_type": "execute_result"
    }
   ],
   "source": [
    "top_10_active = covid_countries_df.sort_values(by='active', ascending=False).head(10)\n",
    "fig = px.bar(top_10_active.sort_values(by='active', ascending=True),\n",
    "             x=\"active\", y=\"Country/Region\",\n",
    "             title='Active Cases', text='active',\n",
    "             template='plotly_dark', orientation='h')\n",
    "\n",
    "fig.update_traces(marker_color='#2ecc71', textposition='outside')\n",
    "#fig.update_layout(uniformtext_minsize=8, uniformtext_mode='hide')\n",
    "\n",
    "plot(fig)"
   ]
  },
  {
   "cell_type": "code",
   "execution_count": null,
   "metadata": {},
   "outputs": [],
   "source": []
  }
 ],
 "metadata": {
  "kernelspec": {
   "display_name": "Python 3",
   "language": "python",
   "name": "python3"
  },
  "language_info": {
   "codemirror_mode": {
    "name": "ipython",
    "version": 3
   },
   "file_extension": ".py",
   "mimetype": "text/x-python",
   "name": "python",
   "nbconvert_exporter": "python",
   "pygments_lexer": "ipython3",
   "version": "3.6.10"
  }
 },
 "nbformat": 4,
 "nbformat_minor": 4
}
